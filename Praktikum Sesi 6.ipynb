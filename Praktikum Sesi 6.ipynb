{
 "cells": [
  {
   "cell_type": "markdown",
   "id": "640a4ea3",
   "metadata": {},
   "source": [
    "<h1>1.Kondisi<h/1>"
   ]
  },
  {
   "cell_type": "code",
   "execution_count": 1,
   "id": "e6d4c815",
   "metadata": {},
   "outputs": [
    {
     "name": "stdout",
     "output_type": "stream",
     "text": [
      "dingin\n",
      "hari ini cerah\n"
     ]
    }
   ],
   "source": [
    "cuaca = \"hujan\"\n",
    "if cuaca == \"hujan\":\n",
    "    print(\"dingin\")\n",
    "    print(\"hari ini cerah\")\n"
   ]
  },
  {
   "cell_type": "markdown",
   "id": "006f04d5",
   "metadata": {},
   "source": [
    "<h1>2.Kondisi<h/1>"
   ]
  },
  {
   "cell_type": "code",
   "execution_count": 3,
   "id": "cf730105",
   "metadata": {},
   "outputs": [
    {
     "name": "stdout",
     "output_type": "stream",
     "text": [
      "9 adalah bilangan ganjil\n"
     ]
    }
   ],
   "source": [
    "nilai = 9\n",
    "sisa_bagi = nilai % 2\n",
    "if sisa_bagi ==0:\n",
    "    print(f\"{nilai} adalah bilangan genap\")\n",
    "else :\n",
    "    print(f\"{nilai} adalah bilangan ganjil\")"
   ]
  },
  {
   "cell_type": "markdown",
   "id": "b0fb161a",
   "metadata": {},
   "source": [
    "<h1>Lebih dari 2 kondisi<h/1>"
   ]
  },
  {
   "cell_type": "code",
   "execution_count": 11,
   "id": "47b62359",
   "metadata": {},
   "outputs": [
    {
     "name": "stdout",
     "output_type": "stream",
     "text": [
      "isikan nilai pemrograman-5\n",
      "input salah\n"
     ]
    }
   ],
   "source": [
    "nilai = int(input('isikan nilai pemrograman'))\n",
    "if nilai >=0 and nilai <=100:\n",
    "    if nilai <=49:\n",
    "        print(f\"{nilai} = E\")\n",
    "    elif nilai <=59:\n",
    "        print(f\"{nilai} = D\")\n",
    "    elif nilai <=69:\n",
    "        print(f\"{nilai} = c\")\n",
    "    elif nilai <=84:\n",
    "        print(f\"{nilai} = B\")\n",
    "    else : \n",
    "        print(f\"{nilai} = A\")\n",
    "else :\n",
    "    print(\"input salah\")\n"
   ]
  },
  {
   "cell_type": "markdown",
   "id": "2a7a4a1b",
   "metadata": {},
   "source": [
    "<h1>User dan Pw<h/1>"
   ]
  },
  {
   "cell_type": "code",
   "execution_count": 18,
   "id": "5e71be18",
   "metadata": {},
   "outputs": [
    {
     "name": "stdout",
     "output_type": "stream",
     "text": [
      "masukan username nisa\n",
      "masukan password nisa\n",
      "Username dan Password anda Salah\n"
     ]
    }
   ],
   "source": [
    "username = input('masukan username ')\n",
    "password =input('masukan password ')\n",
    "\n",
    "if username == 'admin' :\n",
    "    if password == 'admin' :\n",
    "        print(f'Selamat Datang {username}')\n",
    "else:\n",
    "    if password == 'admin' :\n",
    "        print('Username anda salah')\n",
    "    else:\n",
    "        print('Username dan Password anda Salah')"
   ]
  },
  {
   "cell_type": "markdown",
   "id": "294ab48f",
   "metadata": {},
   "source": [
    "<h1>The Game<h/1>\n",
    "    "
   ]
  },
  {
   "cell_type": "code",
   "execution_count": 37,
   "id": "208339dc",
   "metadata": {},
   "outputs": [
    {
     "name": "stdout",
     "output_type": "stream",
     "text": [
      "masukkan nama : nissa\n",
      "masukkan umur : 19\n",
      "masukkan tempat tinggal : california\n",
      "masukkan dolar : 100000\n",
      "nissa tidak mencurigakan\n"
     ]
    }
   ],
   "source": [
    "nama = input('masukkan nama : ')\n",
    "umur = int(input('masukkan umur : '))\n",
    "ttl = input('masukkan tempat tinggal : ')\n",
    "dollar = int(input('masukkan dolar : '))\n",
    "\n",
    "pangkat = ''\n",
    "\n",
    "if umur > 40 :\n",
    "    if ttl == 'Nevada' or ttl == 'New York' or ttl == 'Havana':\n",
    "        if dollar > 10000000:\n",
    "            pangkat = 'Don'\n",
    "if umur > 25 and umur < 40:\n",
    "    if ttl == 'New Jersey' or ttl == 'Manhattan' or ttl == 'Nevada':\n",
    "        if dollar > 1000000:\n",
    "            pangkat = 'Undeboss'\n",
    "if umur > 18 and umur > 24:\n",
    "    if ttl == 'California' or ttl == 'Detroit' or ttl == 'Boston':\n",
    "        if dollar < 100000 :\n",
    "            pangkat = 'Capo'    \n",
    "if pangkat != '':\n",
    "     print(f\"{nama} kemungkinan adalah seorang anggota mafia dengan pangkat {pangkat}\")\n",
    "else:\n",
    "     print(f\"{nama} tidak mencurigakan\")\n",
    "        \n",
    "        \n",
    "        \n",
    "            \n",
    "            \n",
    "    "
   ]
  }
 ],
 "metadata": {
  "kernelspec": {
   "display_name": "Python 3 (ipykernel)",
   "language": "python",
   "name": "python3"
  },
  "language_info": {
   "codemirror_mode": {
    "name": "ipython",
    "version": 3
   },
   "file_extension": ".py",
   "mimetype": "text/x-python",
   "name": "python",
   "nbconvert_exporter": "python",
   "pygments_lexer": "ipython3",
   "version": "3.9.12"
  }
 },
 "nbformat": 4,
 "nbformat_minor": 5
}
